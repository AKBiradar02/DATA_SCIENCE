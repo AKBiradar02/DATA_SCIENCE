{
 "cells": [
  {
   "cell_type": "markdown",
   "id": "a90ab6d6",
   "metadata": {},
   "source": [
    "###Load both datasets and inspect their structure"
   ]
  },
  {
   "cell_type": "code",
   "execution_count": 1,
   "id": "9140727e",
   "metadata": {},
   "outputs": [
    {
     "name": "stdout",
     "output_type": "stream",
     "text": [
      "   code company             name  gender  age\n",
      "0     0    4You        Roy Braun    male   21\n",
      "1     1    4You   Joseph Holsten    male   37\n",
      "2     2    4You    Wilma Mcinnis  female   48\n",
      "3     3    4You     Paula Daniel  female   23\n",
      "4     4    4You  Patricia Carson  female   44\n",
      "   travelCode  userCode     name               place  days   price    total  \\\n",
      "0           0         0  Hotel A  Florianopolis (SC)     4  313.02  1252.08   \n",
      "1           2         0  Hotel K       Salvador (BH)     2  263.41   526.82   \n",
      "2           7         0  Hotel K       Salvador (BH)     3  263.41   790.23   \n",
      "3          11         0  Hotel K       Salvador (BH)     4  263.41  1053.64   \n",
      "4          13         0  Hotel A  Florianopolis (SC)     1  313.02   313.02   \n",
      "\n",
      "         date  \n",
      "0  09/26/2019  \n",
      "1  10/10/2019  \n",
      "2  11/14/2019  \n",
      "3  12/12/2019  \n",
      "4  12/26/2019  \n",
      "<class 'pandas.core.frame.DataFrame'>\n",
      "RangeIndex: 1340 entries, 0 to 1339\n",
      "Data columns (total 5 columns):\n",
      " #   Column   Non-Null Count  Dtype \n",
      "---  ------   --------------  ----- \n",
      " 0   code     1340 non-null   int64 \n",
      " 1   company  1340 non-null   object\n",
      " 2   name     1340 non-null   object\n",
      " 3   gender   1340 non-null   object\n",
      " 4   age      1340 non-null   int64 \n",
      "dtypes: int64(2), object(3)\n",
      "memory usage: 52.5+ KB\n",
      "None\n",
      "<class 'pandas.core.frame.DataFrame'>\n",
      "RangeIndex: 40552 entries, 0 to 40551\n",
      "Data columns (total 8 columns):\n",
      " #   Column      Non-Null Count  Dtype  \n",
      "---  ------      --------------  -----  \n",
      " 0   travelCode  40552 non-null  int64  \n",
      " 1   userCode    40552 non-null  int64  \n",
      " 2   name        40552 non-null  object \n",
      " 3   place       40552 non-null  object \n",
      " 4   days        40552 non-null  int64  \n",
      " 5   price       40552 non-null  float64\n",
      " 6   total       40552 non-null  float64\n",
      " 7   date        40552 non-null  object \n",
      "dtypes: float64(2), int64(3), object(3)\n",
      "memory usage: 2.5+ MB\n",
      "None\n",
      "code       0\n",
      "company    0\n",
      "name       0\n",
      "gender     0\n",
      "age        0\n",
      "dtype: int64\n",
      "travelCode    0\n",
      "userCode      0\n",
      "name          0\n",
      "place         0\n",
      "days          0\n",
      "price         0\n",
      "total         0\n",
      "date          0\n",
      "dtype: int64\n"
     ]
    }
   ],
   "source": [
    "import pandas as pd\n",
    "\n",
    "# load the dataset\n",
    "\n",
    "users_df = pd.read_csv('../data/users.csv')\n",
    "hotels_df = pd.read_csv('../data/hotels.csv')\n",
    "\n",
    "#display the first few rows of each dataframe\n",
    "print(users_df.head())\n",
    "print(hotels_df.head())\n",
    "\n",
    "#check the basic information of each dataframe\n",
    "print(users_df.info())\n",
    "print(hotels_df.info())\n",
    "\n",
    "#check for the missing values in each dataframe\n",
    "print(users_df.isnull().sum())\n",
    "print(hotels_df.isnull().sum())"
   ]
  },
  {
   "cell_type": "code",
   "execution_count": 2,
   "id": "433b865f",
   "metadata": {},
   "outputs": [],
   "source": [
    "# we will convert necessary columns into appropriate formats to ensure smooth analysis\n",
    "# convert date columns to datetime format\n",
    "\n",
    "hotels_df[\"date\"]  = pd.to_datetime(hotels_df[\"date\"], format=\"%m/%d/%Y\")\n",
    "\n",
    "#convert categorical values to lowercase for consistency\n",
    "users_df[\"company\"] = users_df[\"company\"].str.lower().str.strip()\n",
    "hotels_df[\"place\"] = hotels_df[\"place\"].str.lower().str.strip()\n",
    "\n",
    "#convert price and total to float if needed\n",
    "hotels_df[\"price\"] = hotels_df[\"price\"].astype(float)\n",
    "hotels_df[\"total\"] = hotels_df[\"total\"].astype(float)"
   ]
  },
  {
   "cell_type": "code",
   "execution_count": 3,
   "id": "2edb938d",
   "metadata": {},
   "outputs": [
    {
     "name": "stdout",
     "output_type": "stream",
     "text": [
      "code       0\n",
      "company    0\n",
      "name       0\n",
      "gender     0\n",
      "age        0\n",
      "dtype: int64\n",
      "travelCode    0\n",
      "userCode      0\n",
      "name          0\n",
      "place         0\n",
      "days          0\n",
      "price         0\n",
      "total         0\n",
      "date          0\n",
      "dtype: int64\n"
     ]
    },
    {
     "name": "stderr",
     "output_type": "stream",
     "text": [
      "C:\\Users\\abhay\\AppData\\Local\\Temp\\ipykernel_8628\\4245436508.py:7: FutureWarning: A value is trying to be set on a copy of a DataFrame or Series through chained assignment using an inplace method.\n",
      "The behavior will change in pandas 3.0. This inplace method will never work because the intermediate object on which we are setting values always behaves as a copy.\n",
      "\n",
      "For example, when doing 'df[col].method(value, inplace=True)', try using 'df.method({col: value}, inplace=True)' or df[col] = df[col].method(value) instead, to perform the operation inplace on the original object.\n",
      "\n",
      "\n",
      "  hotels_df[\"price\"].fillna(hotels_df[\"price\"].median(), inplace=True)\n",
      "C:\\Users\\abhay\\AppData\\Local\\Temp\\ipykernel_8628\\4245436508.py:8: FutureWarning: A value is trying to be set on a copy of a DataFrame or Series through chained assignment using an inplace method.\n",
      "The behavior will change in pandas 3.0. This inplace method will never work because the intermediate object on which we are setting values always behaves as a copy.\n",
      "\n",
      "For example, when doing 'df[col].method(value, inplace=True)', try using 'df.method({col: value}, inplace=True)' or df[col] = df[col].method(value) instead, to perform the operation inplace on the original object.\n",
      "\n",
      "\n",
      "  hotels_df[\"total\"].fillna(hotels_df[\"total\"].median(), inplace=True)\n"
     ]
    }
   ],
   "source": [
    "# display missing value count\n",
    "\n",
    "print(users_df.isnull().sum())\n",
    "print(hotels_df.isnull().sum())\n",
    "\n",
    "# fill the missing values with median\n",
    "hotels_df[\"price\"].fillna(hotels_df[\"price\"].median(), inplace=True)\n",
    "hotels_df[\"total\"].fillna(hotels_df[\"total\"].median(), inplace=True)\n",
    "\n",
    "#fill the missing categorical values with unknown\n",
    "users_df[\"company\"].fillna(\"unknown\", inplace=True)\n",
    "users_df[\"name\"].fillna(\"unknown\", inplace=True)"
   ]
  },
  {
   "cell_type": "code",
   "execution_count": 4,
   "id": "2c849b34",
   "metadata": {},
   "outputs": [
    {
     "name": "stdout",
     "output_type": "stream",
     "text": [
      "0\n",
      "0\n"
     ]
    }
   ],
   "source": [
    "# find out duplicate entries and rows\n",
    "print(users_df.duplicated().sum())\n",
    "print(hotels_df.duplicated().sum())\n",
    "\n",
    "# remove duplicate entries\n",
    "users_df.drop_duplicates(inplace=True)\n",
    "hotels_df.drop_duplicates(inplace=True)"
   ]
  },
  {
   "cell_type": "code",
   "execution_count": 5,
   "id": "7f000da6",
   "metadata": {},
   "outputs": [
    {
     "name": "stdout",
     "output_type": "stream",
     "text": [
      "Cleaned datasets saved successfully!\n"
     ]
    }
   ],
   "source": [
    "# Save cleaned datasets for reuse\n",
    "users_df.to_csv(\"../data/cleaned_users.csv\", index=False)\n",
    "hotels_df.to_csv(\"../data/cleaned_hotels.csv\", index=False)\n",
    "\n",
    "print(\"Cleaned datasets saved successfully!\")\n"
   ]
  }
 ],
 "metadata": {
  "kernelspec": {
   "display_name": "base",
   "language": "python",
   "name": "python3"
  },
  "language_info": {
   "codemirror_mode": {
    "name": "ipython",
    "version": 3
   },
   "file_extension": ".py",
   "mimetype": "text/x-python",
   "name": "python",
   "nbconvert_exporter": "python",
   "pygments_lexer": "ipython3",
   "version": "3.12.7"
  }
 },
 "nbformat": 4,
 "nbformat_minor": 5
}
